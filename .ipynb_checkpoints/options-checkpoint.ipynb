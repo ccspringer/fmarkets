{
 "metadata": {
  "name": "",
  "signature": "sha256:ae0bd598bbc965e89f7ca5275e85e130a7da04f6c7fd22d93318c1aea26f0d69"
 },
 "nbformat": 3,
 "nbformat_minor": 0,
 "worksheets": [
  {
   "cells": [
    {
     "cell_type": "markdown",
     "metadata": {},
     "source": [
      "# binomial method"
     ]
    },
    {
     "cell_type": "code",
     "collapsed": false,
     "input": [
      "from math import exp, expm1"
     ],
     "language": "python",
     "metadata": {},
     "outputs": [],
     "prompt_number": 14
    },
    {
     "cell_type": "code",
     "collapsed": false,
     "input": [
      "def ex_value_one_step(args):\n",
      "    q, Su, Sd, r, h = [args['q'], args['Su'], args['Sd'], args['r'], args['h']]\n",
      "    ev = (q*Su + (1-q)*Sd)/exp(r)\n",
      "    return ev"
     ],
     "language": "python",
     "metadata": {},
     "outputs": [],
     "prompt_number": 25
    },
    {
     "cell_type": "code",
     "collapsed": false,
     "input": [
      "ex_value_one_step({'q':0.5, 'Su': 10, 'Sd':0, 'r':0.01, 'h': 1})"
     ],
     "language": "python",
     "metadata": {},
     "outputs": [
      {
       "metadata": {},
       "output_type": "pyout",
       "prompt_number": 26,
       "text": [
        "4.950249168745841"
       ]
      }
     ],
     "prompt_number": 26
    },
    {
     "cell_type": "code",
     "collapsed": false,
     "input": [
      "def q(args):\n",
      "    u, d, r, h = [args['u'], args['d'], args['r'], args['h']]\n",
      "    q = (exp(r*h) - d)/(u-d)\n",
      "    return q"
     ],
     "language": "python",
     "metadata": {},
     "outputs": [],
     "prompt_number": 27
    },
    {
     "cell_type": "code",
     "collapsed": false,
     "input": [
      "q({'u':1.22, 'd':0.8, 'r':0.1, 'h':1})"
     ],
     "language": "python",
     "metadata": {},
     "outputs": [
      {
       "metadata": {},
       "output_type": "pyout",
       "prompt_number": 28,
       "text": [
        "0.7265974239896374"
       ]
      }
     ],
     "prompt_number": 28
    },
    {
     "cell_type": "code",
     "collapsed": false,
     "input": [
      "def call_price(args):\n",
      "    u, d, r, h, n, S0, K = [args['u'], args['d'],\n",
      "                            args['r'], args['h'], args['n'],\n",
      "                            args['S0'], args['K']]\n",
      "    q = q({'u':u, 'd':d, 'r':r, 'h':h})"
     ],
     "language": "python",
     "metadata": {},
     "outputs": [],
     "prompt_number": 21
    },
    {
     "cell_type": "code",
     "collapsed": false,
     "input": [
      "b"
     ],
     "language": "python",
     "metadata": {},
     "outputs": [
      {
       "metadata": {},
       "output_type": "pyout",
       "prompt_number": 13,
       "text": [
        "2"
       ]
      }
     ],
     "prompt_number": 13
    },
    {
     "cell_type": "code",
     "collapsed": false,
     "input": [],
     "language": "python",
     "metadata": {},
     "outputs": []
    }
   ],
   "metadata": {}
  }
 ]
}